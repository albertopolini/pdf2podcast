{
 "cells": [
  {
   "cell_type": "markdown",
   "metadata": {},
   "source": [
    "# PDF2Podcast Test Notebook\n",
    "\n",
    "This notebook demonstrates the features of the pdf2podcast library, including:  \n",
    "- Text extraction from PDF  \n",
    "- Text chunking  \n",
    "- Semantic search  \n",
    "- Podcast generation  "
   ]
  },
  {
   "cell_type": "code",
   "execution_count": null,
   "metadata": {},
   "outputs": [],
   "source": [
    "import os\n",
    "import sys\n",
    "from pathlib import Path\n",
    "from dotenv import load_dotenv\n",
    "\n",
    "# Add the correct path for local modules\n",
    "module_path = str(Path(os.getcwd()).parent)\n",
    "if module_path not in sys.path:\n",
    "    sys.path.append(module_path)\n",
    "\n",
    "# Direct imports from local modules\n",
    "from pdf2podcast import PodcastGenerator\n",
    "from pdf2podcast.core.rag import AdvancedPDFProcessor as SimplePDFProcessor\n",
    "from pdf2podcast.core.llm import GeminiLLM\n",
    "from pdf2podcast.core.tts import AWSPollyTTS, GoogleTTS\n",
    "from pdf2podcast.core.prompts import PodcastPromptBuilder\n",
    "from pdf2podcast.core.processing import SimpleChunker, SemanticRetriever"
   ]
  },
  {
   "cell_type": "markdown",
   "metadata": {},
   "source": [
    "## Setup\n",
    "\n",
    "Setup and configuration"
   ]
  },
  {
   "cell_type": "code",
   "execution_count": null,
   "metadata": {},
   "outputs": [],
   "source": [
    "# Load environment variables\n",
    "load_dotenv(\"../.env\")\n",
    "\n",
    "# Check for required keys\n",
    "api_key = os.getenv(\"GENAI_API_KEY\")\n",
    "if not api_key:\n",
    "    raise ValueError(\"GENAI_API_KEY not found in the .env file\")\n",
    "\n",
    "# Verify that the test PDF exists\n",
    "PDF_PATH = \"./transformers.pdf\"\n",
    "if not os.path.exists(PDF_PATH):\n",
    "    raise ValueError(f\"PDF file not found: {PDF_PATH}\")"
   ]
  },
  {
   "cell_type": "markdown",
   "metadata": {},
   "source": [
    "## Basic Test: Text Extraction"
   ]
  },
  {
   "cell_type": "code",
   "execution_count": null,
   "metadata": {},
   "outputs": [],
   "source": [
    "# Initialize the basic PDF processor\n",
    "processor = SimplePDFProcessor(\n",
    "    max_chars_per_chunk=4000,\n",
    "    extract_images=True,\n",
    "    metadata=True\n",
    ")\n",
    "\n",
    "# Extract the text\n",
    "text = processor.process_document(PDF_PATH)\n",
    "print(\"Extracted text length:\", len(text))\n",
    "print(\"\\nFirst 500 characters:\\n\")\n",
    "print(text[:500])"
   ]
  },
  {
   "cell_type": "markdown",
   "metadata": {},
   "source": [
    "## Chunking"
   ]
  },
  {
   "cell_type": "code",
   "execution_count": null,
   "metadata": {},
   "outputs": [],
   "source": [
    "# Initialize the chunker\n",
    "chunker = SimpleChunker()\n",
    "\n",
    "# Split the text into chunks\n",
    "chunks = chunker.chunk_text(text, chunk_size=4000)\n",
    "\n",
    "print(f\"Number of chunks: {len(chunks)}\")\n",
    "print(\"\\nFirst chunk:\\n\")\n",
    "print(chunks[0])"
   ]
  },
  {
   "cell_type": "markdown",
   "metadata": {},
   "source": [
    "## Semantic Search Test"
   ]
  },
  {
   "cell_type": "code",
   "execution_count": null,
   "metadata": {},
   "outputs": [],
   "source": [
    "# Initialize the retriever\n",
    "retriever = SemanticRetriever()\n",
    "\n",
    "# Add the chunks to the retriever\n",
    "retriever.add_texts(chunks)\n",
    "\n",
    "# Test a query\n",
    "query = \"Explain the main concepts of the paper\"\n",
    "relevant_chunks = retriever.get_relevant_chunks(query, k=5)\n",
    "\n",
    "print(\"Most relevant chunks for the query:\", query)\n",
    "for i, chunk in enumerate(relevant_chunks, 1):\n",
    "    print(f\"\\nChunk {i}:\\n{chunk}\")"
   ]
  },
  {
   "cell_type": "markdown",
   "metadata": {},
   "source": [
    "## Complete Test: Podcast Generation"
   ]
  },
  {
   "cell_type": "code",
   "execution_count": null,
   "metadata": {},
   "outputs": [],
   "source": [
    "## Complete Test: Podcast Generation\n",
    "chunker = SimpleChunker()\n",
    "retriever = SemanticRetriever()\n",
    "prompt_builder = PodcastPromptBuilder()\n",
    "\n",
    "# Configure the PDF processor\n",
    "processor = SimplePDFProcessor(\n",
    "    chunker=chunker,\n",
    "    retriever=retriever,\n",
    "    extract_images=True,\n",
    "    max_chars_per_chunk=6000,\n",
    "    metadata=True\n",
    ")\n",
    "\n",
    "# Create the generator with the new configuration based on the managers\n",
    "generator = PodcastGenerator(\n",
    "    rag_system=processor,\n",
    "    llm_provider=\"gemini\",\n",
    "    tts_provider=\"google\",  # Using Google TTS for testing\n",
    "    llm_config={\n",
    "        \"api_key\": api_key,\n",
    "        \"max_output_tokens\": 8000,\n",
    "        \"temperature\": 0.1,\n",
    "        \"prompt_builder\": prompt_builder\n",
    "    },\n",
    "    tts_config={\n",
    "        \"language\": \"en\",\n",
    "        \"tld\": \"com\",\n",
    "        \"slow\": False\n",
    "    },\n",
    "    chunker=chunker,\n",
    "    retriever=retriever,\n",
    "    k=5\n",
    ")\n",
    "\n",
    "# Generate the podcast with a specific query\n",
    "result = generator.generate(\n",
    "    pdf_path=PDF_PATH,\n",
    "    output_path=\"output.mp3\",\n",
    "    complexity=\"advanced\",\n",
    "    audience=\"experts\",\n",
    "    query=\"Explain in detail the functioning of the transformers architecture\"\n",
    ")\n",
    "\n",
    "# Display the results\n",
    "print(\"Generated script:\\n\")\n",
    "print(result[\"script\"])\n",
    "\n",
    "print(\"\\nAudio details:\")\n",
    "print(f\"File: {result['audio']['path']}\")\n",
    "print(f\"Size: {result['audio']['size']} bytes\")\n",
    "\n",
    "len(result[\"script\"])\n"
   ]
  },
  {
   "cell_type": "markdown",
   "metadata": {},
   "source": [
    "# Custom Prompt"
   ]
  },
  {
   "cell_type": "code",
   "execution_count": null,
   "metadata": {},
   "outputs": [],
   "source": [
    "from typing import Dict, Any\n",
    "from pdf2podcast.core.base import BasePromptBuilder\n",
    "\n",
    "\n",
    "# Implementation of the Builders\n",
    "class StorytellingPromptBuilder(BasePromptBuilder):\n",
    "    \"\"\"Builder for storytelling-style prompts.\"\"\"\n",
    "    \n",
    "    def build_prompt(self, text: str, **kwargs) -> str:\n",
    "        return f\"\"\"\n",
    "        You are a storyteller tasked with creating an engaging and captivating podcast episode.\n",
    "        Your goal is to narrate the content in a way that captures the listener's imagination and keeps them hooked.\n",
    "        Use vivid descriptions, emotional language, and a clear structure to convey the main ideas and themes of the text.\n",
    "\n",
    "        Text to process:\n",
    "        {text}\n",
    "\n",
    "        Please ensure the storytelling style is immersive and suitable for a podcast audience.\n",
    "        \"\"\"\n",
    "\n",
    "    def build_expand_prompt(self, text: str, **kwargs) -> str:\n",
    "        return self.templates.get_expand_prompt(text, **kwargs)"
   ]
  },
  {
   "cell_type": "code",
   "execution_count": null,
   "metadata": {},
   "outputs": [],
   "source": [
    "# Test with StorytellingPromptBuilder\n",
    "storytelling_generator = PodcastGenerator(\n",
    "    rag_system=processor,\n",
    "    llm_provider=\"gemini\",\n",
    "    tts_provider=\"google\",\n",
    "    llm_config={\n",
    "        \"api_key\": api_key,\n",
    "        \"max_output_tokens\": 8000,\n",
    "        \"temperature\": 0.1,\n",
    "        \"prompt_builder\": StorytellingPromptBuilder()\n",
    "    },\n",
    "    tts_config={\n",
    "        \"language\": \"en\",\n",
    "        \"tld\": \"com\",\n",
    "        \"slow\": False\n",
    "    },\n",
    "    chunker=chunker,\n",
    "    retriever=retriever,\n",
    ")\n",
    "\n",
    "# Generate the podcast with a specific query\n",
    "result = storytelling_generator.generate(\n",
    "    pdf_path=PDF_PATH,\n",
    "    output_path=\"output.mp3\",\n",
    "    complexity=\"simple\",\n",
    "    audience=\"students\",\n",
    "    query=\"Explain the main concepts of the paper and the main results\"\n",
    ")\n",
    "\n",
    "# Display the results\n",
    "print(\"Generated script:\\n\")\n",
    "print(result[\"script\"])\n",
    "\n",
    "print(\"\\nAudio details:\")\n",
    "print(f\"File: {result['audio']['path']}\")\n",
    "print(f\"Size: {result['audio']['size']} bytes\")\n",
    "\n",
    "len(result[\"script\"])"
   ]
  },
  {
   "cell_type": "code",
   "execution_count": null,
   "metadata": {},
   "outputs": [],
   "source": []
  }
 ],
 "metadata": {
  "kernelspec": {
   "display_name": ".venv",
   "language": "python",
   "name": "python3"
  },
  "language_info": {
   "codemirror_mode": {
    "name": "ipython",
    "version": 3
   },
   "file_extension": ".py",
   "mimetype": "text/x-python",
   "name": "python",
   "nbconvert_exporter": "python",
   "pygments_lexer": "ipython3",
   "version": "3.11.9"
  }
 },
 "nbformat": 4,
 "nbformat_minor": 2
}
